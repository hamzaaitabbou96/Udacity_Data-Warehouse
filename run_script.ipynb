{
 "cells": [
  {
   "cell_type": "code",
   "execution_count": 1,
   "metadata": {},
   "outputs": [
    {
     "name": "stdout",
     "output_type": "stream",
     "text": [
      "Connecting to redshift\n",
      "Connected to redshift\n",
      "Dropping existing tables if any\n",
      "Executing drop: DROP TABLE IF EXISTS staging_events_table\n",
      "Executing drop: DROP TABLE IF EXISTS staging_songs_table\n",
      "Executing drop: DROP TABLE IF EXISTS songplay_table\n",
      "Executing drop: DROP TABLE IF EXISTS user_table\n",
      "Executing drop: DROP TABLE IF EXISTS song_table\n",
      "Executing drop: DROP TABLE IF EXISTS artist_table\n",
      "Executing drop: DROP TABLE IF EXISTS time_table\n",
      "Creating tables\n",
      "Executing create: CREATE TABLE IF NOT EXISTS staging_events(\n",
      "                                artist TEXT,\n",
      "                                auth TEXT,\n",
      "                                first_name TEXT,\n",
      "                                gender CHAR(1),\n",
      "                                item_session INTEGER,\n",
      "                                last_name TEXT,\n",
      "                                length NUMERIC,\n",
      "                                level TEXT,\n",
      "                                location TEXT,\n",
      "                                method TEXT,\n",
      "                                page TEXT,\n",
      "                                registration NUMERIC,\n",
      "                                session_id INTEGER,\n",
      "                                song TEXT,\n",
      "                                status INTEGER,\n",
      "                                ts BIGINT,\n",
      "                                user_agent TEXT,\n",
      "                                user_id INTEGER\n",
      "                            )\n",
      "\n",
      "Executing create: CREATE  TABLE IF NOT EXISTS staging_songs(\n",
      "                                num_songs INTEGER,\n",
      "                                artist_id TEXT,\n",
      "                                artist_latitude NUMERIC,\n",
      "                                artist_longitude NUMERIC,\n",
      "                                artist_location TEXT,\n",
      "                                artist_name TEXT,\n",
      "                                song_id TEXT,\n",
      "                                title TEXT,\n",
      "                                duration NUMERIC,\n",
      "                                year INTEGER\n",
      "                            )\n",
      "\n",
      "Executing create: CREATE TABLE IF NOT EXISTS songplay(\n",
      "                            songplay_id INT IDENTITY(1,1) PRIMARY KEY,\n",
      "                            start_time TIMESTAMP,\n",
      "                            user_id INTEGER NOT NULL,\n",
      "                            level TEXT,\n",
      "                            song_id TEXT,\n",
      "                            artist_id TEXT,\n",
      "                            session_id INTEGER,\n",
      "                            location TEXT,\n",
      "                            user_agent TEXT\n",
      "                        )\n",
      "\n",
      "Executing create: CREATE TABLE IF NOT EXISTS users(\n",
      "                        user_id INTEGER PRIMARY KEY,\n",
      "                        first_name TEXT NOT NULL,\n",
      "                        last_name TEXT NOT NULL,\n",
      "                        gender CHAR(1),\n",
      "                        level TEXT\n",
      "                    )\n",
      "\n",
      "Executing create: CREATE TABLE IF NOT EXISTS song(\n",
      "                        song_id TEXT PRIMARY KEY,\n",
      "                        title TEXT,\n",
      "                        artist_id TEXT,\n",
      "                        year INTEGER,\n",
      "                        duration NUMERIC\n",
      "                    )\n",
      "\n",
      "Executing create: CREATE TABLE IF NOT EXISTS artist(\n",
      "                          artist_id TEXT PRIMARY KEY,\n",
      "                          name TEXT,\n",
      "                          location TEXT,\n",
      "                          latitude NUMERIC,\n",
      "                          longitude NUMERIC\n",
      "                       )\n",
      "\n",
      "Executing create: CREATE TABLE IF NOT EXISTS time(\n",
      "                        start_time TIMESTAMP PRIMARY KEY,\n",
      "                        hour INTEGER,\n",
      "                        day INTEGER,\n",
      "                        week INTEGER,\n",
      "                        month INTEGER,\n",
      "                        year INTEGER,\n",
      "                        weekDay INTEGER\n",
      "                    )\n",
      "\n",
      "Create table Ended\n"
     ]
    }
   ],
   "source": [
    "%run create_tables.py"
   ]
  },
  {
   "cell_type": "code",
   "execution_count": 2,
   "metadata": {},
   "outputs": [],
   "source": [
    "% run etl.py"
   ]
  },
  {
   "cell_type": "code",
   "execution_count": null,
   "metadata": {},
   "outputs": [],
   "source": []
  }
 ],
 "metadata": {
  "kernelspec": {
   "display_name": "Python 3",
   "language": "python",
   "name": "python3"
  },
  "language_info": {
   "codemirror_mode": {
    "name": "ipython",
    "version": 3
   },
   "file_extension": ".py",
   "mimetype": "text/x-python",
   "name": "python",
   "nbconvert_exporter": "python",
   "pygments_lexer": "ipython3",
   "version": "3.6.3"
  }
 },
 "nbformat": 4,
 "nbformat_minor": 2
}
